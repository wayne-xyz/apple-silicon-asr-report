{
 "cells": [
  {
   "cell_type": "markdown",
   "metadata": {},
   "source": [
    "# mlx-whisper\n",
    "\n",
    "- option1 tiny\n",
    "`pip install mlx-whisper`\n",
    "\n",
    "- option2 \n",
    "  - tiny\n",
    "  - tiny_en\n",
    "' pip install -U openai-whisper '\n",
    "\n"
   ]
  },
  {
   "cell_type": "code",
   "execution_count": 16,
   "metadata": {},
   "outputs": [
    {
     "name": "stdout",
     "output_type": "stream",
     "text": [
      "default model: whisper-tiny 74m\n",
      "\n",
      "Processing: Speaker27_000.wav\n",
      "--------------------------------------------------\n",
      "Audio duration: 60.00 seconds\n",
      "Transcription time: 0.67 seconds\n",
      "Transcribed text:  The story of the invention, development, and present-day uses of wars and newest weapons. This is the Librevox Recording. All Librevox Recording are in the public domain. For more information or to volunteer, please visit Librevox.org. Recording by William Tomko. Aircraft and submarines by Willis J. Abbott. Preface. Not since Gunpowder was first employed in warfare has so revolutionary contribution to the science of slaughtering men been made as by the perfection of aircraft and submarines. The former have had their first employment in this worldwide war of the nations. The latter, though in the experimental stage as far back as the American Revolution, have in this bitter contest then for the first time brought to so practical and stage of development as to exert a really appreciable influence on the outcome of this.\n",
      "\n",
      "Processing: Speaker26_000.wav\n",
      "--------------------------------------------------\n",
      "Audio duration: 60.00 seconds\n",
      "Transcription time: 0.63 seconds\n",
      "Transcribed text:  Section 0 of esophs fables, a new revised version by esoph. This sleeper box recording is in the public domain. Preface, the following are some of esophs best-loved fables. The Goose with the Golden Eggs. A certain man had the good fortune to possess a Goose that laid him a Golden Egg every day, but dissatisfied with so slow and encommed, and thinking to seize the whole treasure at once, he killed the Goose and cutting her open, found her just what any other Goose would be. Much once more, and loses all. The town mouse and the country mouse. A country mouse invited a town mouse and intimate friend to pay him a visit and portake of his country fair. As they were on the bare-plowed lands, eating their wheat stock.\n",
      "\n",
      "Processing: ls_test.flac\n",
      "--------------------------------------------------\n",
      "Audio duration: 6.67 seconds\n",
      "Transcription time: 0.16 seconds\n",
      "Transcribed text:  Then the good soul openly sorted the boat and she had buoyed so long in secret and bravely stretched on alone.\n"
     ]
    }
   ],
   "source": [
    "import mlx_whisper\n",
    "\n",
    "samples_folder='../samples'\n",
    "import time\n",
    "import librosa\n",
    "import os\n",
    "\n",
    "# Get all audio files from samples folder\n",
    "audio_files = [f for f in os.listdir(samples_folder) if f.endswith(('.wav', '.flac', '.mp3'))]\n",
    "print ('default model: whisper-tiny 74m' )\n",
    "\n",
    "\n",
    "for audio_file in audio_files:\n",
    "    print(f\"\\nProcessing: {audio_file}\")\n",
    "    print(\"-\" * 50)\n",
    "    \n",
    "    # Get audio duration\n",
    "    audio_path = os.path.join(samples_folder, audio_file)\n",
    "    duration = librosa.get_duration(path=audio_path)\n",
    "\n",
    "    # Transcribe audio\n",
    "    start_time = time.time()\n",
    "    text = mlx_whisper.transcribe(audio_path)['text']\n",
    "    end_time = time.time()\n",
    "\n",
    "    # Print results\n",
    "    print(f\"Audio duration: {duration:.2f} seconds\")\n",
    "    print(f\"Transcription time: {end_time - start_time:.2f} seconds\")\n",
    "    print(f\"Transcribed text: {text}\")\n",
    "\n"
   ]
  },
  {
   "cell_type": "code",
   "execution_count": 20,
   "metadata": {},
   "outputs": [
    {
     "name": "stdout",
     "output_type": "stream",
     "text": [
      "openai-whisper, tiny model, 72M\n",
      "\n",
      "Processing: Speaker27_000.wav\n",
      "--------------------------------------------------\n"
     ]
    },
    {
     "name": "stderr",
     "output_type": "stream",
     "text": [
      "/opt/miniconda3/envs/mlx-whisper/lib/python3.12/site-packages/whisper/transcribe.py:126: UserWarning: FP16 is not supported on CPU; using FP32 instead\n",
      "  warnings.warn(\"FP16 is not supported on CPU; using FP32 instead\")\n"
     ]
    },
    {
     "name": "stdout",
     "output_type": "stream",
     "text": [
      "Audio duration: 60.00 seconds\n",
      "Transcription time: 1.26 seconds\n",
      "Transcribed text:  The story of the invention, development, and present-day uses of wars and newest weapons. This is the Librevox Recording. All Librevox Recording are in the public domain. For more information or to volunteer, please visit Librevox.org. Recording by William Tomko. Aircraft and submarines by Willis J. Abbott. Preface. Not since Gunpowder was first employed in warfare has so revolutionary contribution to the science of slaughtering men been made as by the perfection of aircraft and submarines. The former have had their first employment in this worldwide war of the nations. The latter, though in the experimental stage as far back as the American Revolution, have in this bitter contest then for the first time brought to so practical and stage of development as to exert a really appreciable influence on the outcome of this.\n",
      "\n",
      "Processing: Speaker26_000.wav\n",
      "--------------------------------------------------\n"
     ]
    },
    {
     "name": "stderr",
     "output_type": "stream",
     "text": [
      "/opt/miniconda3/envs/mlx-whisper/lib/python3.12/site-packages/whisper/transcribe.py:126: UserWarning: FP16 is not supported on CPU; using FP32 instead\n",
      "  warnings.warn(\"FP16 is not supported on CPU; using FP32 instead\")\n"
     ]
    },
    {
     "name": "stdout",
     "output_type": "stream",
     "text": [
      "Audio duration: 60.00 seconds\n",
      "Transcription time: 1.08 seconds\n",
      "Transcribed text:  Section 0 of esophs fables, a new revised version by esoph. This sleeper box recording is in the public domain. Preface, the following are some of esophs best-loved fables. The Goose with the Golden Eggs. A certain man had the good fortune to possess a Goose that laid him a Golden Egg every day, but dissatisfied with so slow and encommed, and thinking to seize the whole treasure at once, he killed the Goose and cutting her open, found her just what any other Goose would be. Much once more, and loses all. The town mouse and the country mouse. A country mouse invited a town mouse and intimate friend to pay him a visit and portake of his country fair. As they were on the bare-plowed lands, eating their wheat stock.\n",
      "\n",
      "Processing: ls_test.flac\n",
      "--------------------------------------------------\n"
     ]
    },
    {
     "name": "stderr",
     "output_type": "stream",
     "text": [
      "/opt/miniconda3/envs/mlx-whisper/lib/python3.12/site-packages/whisper/transcribe.py:126: UserWarning: FP16 is not supported on CPU; using FP32 instead\n",
      "  warnings.warn(\"FP16 is not supported on CPU; using FP32 instead\")\n"
     ]
    },
    {
     "name": "stdout",
     "output_type": "stream",
     "text": [
      "Audio duration: 6.67 seconds\n",
      "Transcription time: 0.31 seconds\n",
      "Transcribed text:  Then the good soul openly sorted the boat and she had buoyed so long in secret and bravely stretched on alone.\n"
     ]
    }
   ],
   "source": [
    "import whisper\n",
    "\n",
    "import time\n",
    "import librosa\n",
    "import os\n",
    "samples_folder='../samples'\n",
    "model = whisper.load_model(\"tiny\")\n",
    "# Get all audio files from samples folder\n",
    "audio_files = [f for f in os.listdir(samples_folder) if f.endswith(('.wav', '.flac', '.mp3'))]\n",
    "\n",
    "print ('openai-whisper, tiny model, 72M')\n",
    "for audio_file in audio_files:\n",
    "    print(f\"\\nProcessing: {audio_file}\")\n",
    "    print(\"-\" * 50)\n",
    "    \n",
    "    # Get audio duration\n",
    "    audio_path = os.path.join( samples_folder, audio_file)\n",
    "    duration = librosa.get_duration(path=audio_path)\n",
    "\n",
    "    # Transcribe audio\n",
    "    start_time = time.time()\n",
    "    result = model.transcribe(audio_path)\n",
    "    end_time = time.time()\n",
    "\n",
    "    # Print results\n",
    "    print(f\"Audio duration: {duration:.2f} seconds\")\n",
    "    print(f\"Transcription time: {end_time - start_time:.2f} seconds\")\n",
    "    print(f\"Transcribed text: {result['text']}\")\n",
    "\n"
   ]
  },
  {
   "cell_type": "code",
   "execution_count": 21,
   "metadata": {},
   "outputs": [
    {
     "name": "stderr",
     "output_type": "stream",
     "text": [
      "100%|█████████████████████████████████████| 72.1M/72.1M [00:01<00:00, 69.9MiB/s]\n"
     ]
    },
    {
     "name": "stdout",
     "output_type": "stream",
     "text": [
      "openai-whisper, tiny model, 72M\n",
      "\n",
      "Processing: Speaker27_000.wav\n",
      "--------------------------------------------------\n"
     ]
    },
    {
     "name": "stderr",
     "output_type": "stream",
     "text": [
      "/opt/miniconda3/envs/mlx-whisper/lib/python3.12/site-packages/whisper/transcribe.py:126: UserWarning: FP16 is not supported on CPU; using FP32 instead\n",
      "  warnings.warn(\"FP16 is not supported on CPU; using FP32 instead\")\n"
     ]
    },
    {
     "name": "stdout",
     "output_type": "stream",
     "text": [
      "Audio duration: 60.00 seconds\n",
      "Transcription time: 1.12 seconds\n",
      "Transcribed text:  Preface of Aircraft and Submarines, the story of the invention, development, and present-day uses of wars and newest weapons. This is the Liber vox recording. All Liber vox recordings are in the public domain. For more information or to volunteer, please visit Libervox.org. Recording by William Tomko, Aircraft and Submarines by Willis J. Abbott, Preface. Not since gunpowder was first employed in warfare has so revolutionary a contribution to the science of slaughtering men been made as by the perfection of aircraft and submarines. The former have had their first employment in this worldwide war of the nations. The latter, though in the experimental stage, as far back as the American Revolution, have in this bitter contest, then for the first time brought to so practical a stage of development, as to exert a really appreciable influence on the outcome of the...\n",
      "\n",
      "Processing: Speaker26_000.wav\n",
      "--------------------------------------------------\n"
     ]
    },
    {
     "name": "stderr",
     "output_type": "stream",
     "text": [
      "/opt/miniconda3/envs/mlx-whisper/lib/python3.12/site-packages/whisper/transcribe.py:126: UserWarning: FP16 is not supported on CPU; using FP32 instead\n",
      "  warnings.warn(\"FP16 is not supported on CPU; using FP32 instead\")\n"
     ]
    },
    {
     "name": "stdout",
     "output_type": "stream",
     "text": [
      "Audio duration: 60.00 seconds\n",
      "Transcription time: 0.97 seconds\n",
      "Transcribed text:  Section zero of ESOP's fables, a new revised version by ESOP. This sliver box recording is in the public domain. Preface, the following are some of ESOP's best-loved fables. The Goose with the Golden Eggs A certain man had the good fortune to possess a goose that laid him a golden egg every day, but dissatisfied with so slow an income and thinking to seize the whole treasure at once, he killed the Goose and cutting her open, found her just what any other Goose would be. Much once more and loses all. The Town Mouse and the Country Mouse A country mouse invited a town mouse and intimate friend to pay him a visit and partake of his country fair. As they were on the bare plowed lands, eating their wheat stock.\n",
      "\n",
      "Processing: ls_test.flac\n",
      "--------------------------------------------------\n"
     ]
    },
    {
     "name": "stderr",
     "output_type": "stream",
     "text": [
      "/opt/miniconda3/envs/mlx-whisper/lib/python3.12/site-packages/whisper/transcribe.py:126: UserWarning: FP16 is not supported on CPU; using FP32 instead\n",
      "  warnings.warn(\"FP16 is not supported on CPU; using FP32 instead\")\n"
     ]
    },
    {
     "name": "stdout",
     "output_type": "stream",
     "text": [
      "Audio duration: 6.67 seconds\n",
      "Transcription time: 0.23 seconds\n",
      "Transcribed text:  Then the goods sold openly, shorted the burden she had borne so long in secret and bravely trudged on alone.\n"
     ]
    }
   ],
   "source": [
    "import whisper\n",
    "\n",
    "import time\n",
    "import librosa\n",
    "import os\n",
    "samples_folder='../samples'\n",
    "model_en = whisper.load_model(\"tiny.en\")\n",
    "# Get all audio files from samples folder\n",
    "audio_files = [f for f in os.listdir(samples_folder) if f.endswith(('.wav', '.flac', '.mp3'))]\n",
    "\n",
    "print ('openai-whisper, tiny_en model, 72M')\n",
    "for audio_file in audio_files:\n",
    "    print(f\"\\nProcessing: {audio_file}\")\n",
    "    print(\"-\" * 50)\n",
    "    \n",
    "    # Get audio duration\n",
    "    audio_path = os.path.join( samples_folder, audio_file)\n",
    "    duration = librosa.get_duration(path=audio_path)\n",
    "\n",
    "    # Transcribe audio\n",
    "    start_time = time.time()\n",
    "    result = model_en.transcribe(audio_path)\n",
    "    end_time = time.time()\n",
    "\n",
    "    # Print results\n",
    "    print(f\"Audio duration: {duration:.2f} seconds\")\n",
    "    print(f\"Transcription time: {end_time - start_time:.2f} seconds\")\n",
    "    print(f\"Transcribed text: {result['text']}\")\n",
    "\n"
   ]
  }
 ],
 "metadata": {
  "kernelspec": {
   "display_name": "mlx-whisper",
   "language": "python",
   "name": "python3"
  },
  "language_info": {
   "codemirror_mode": {
    "name": "ipython",
    "version": 3
   },
   "file_extension": ".py",
   "mimetype": "text/x-python",
   "name": "python",
   "nbconvert_exporter": "python",
   "pygments_lexer": "ipython3",
   "version": "3.12.9"
  }
 },
 "nbformat": 4,
 "nbformat_minor": 2
}
