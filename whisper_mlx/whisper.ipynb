{
 "cells": [
  {
   "cell_type": "markdown",
   "metadata": {},
   "source": [
    "# mlx-whisper\n",
    "\n",
    "- option1 \n",
    "`pip install mlx-whisper`"
   ]
  },
  {
   "cell_type": "code",
   "execution_count": 15,
   "metadata": {},
   "outputs": [
    {
     "name": "stdout",
     "output_type": "stream",
     "text": [
      "\n",
      "Processing: Speaker27_000.wav\n",
      "--------------------------------------------------\n",
      "Audio duration: 60.00 seconds\n",
      "Transcription time: 0.71 seconds\n",
      "Transcribed text:  The story of the invention, development, and present-day uses of wars and newest weapons. This is the Librevox Recording. All Librevox Recording are in the public domain. For more information or to volunteer, please visit Librevox.org. Recording by William Tomko. Aircraft and submarines by Willis J. Abbott. Preface. Not since Gunpowder was first employed in warfare has so revolutionary contribution to the science of slaughtering men been made as by the perfection of aircraft and submarines. The former have had their first employment in this worldwide war of the nations. The latter, though in the experimental stage as far back as the American Revolution, have in this bitter contest then for the first time brought to so practical and stage of development as to exert a really appreciable influence on the outcome of this.\n",
      "\n",
      "Processing: Speaker26_000.wav\n",
      "--------------------------------------------------\n",
      "Audio duration: 60.00 seconds\n",
      "Transcription time: 0.59 seconds\n",
      "Transcribed text:  Section 0 of esophs fables, a new revised version by esoph. This sleeper box recording is in the public domain. Preface, the following are some of esophs best-loved fables. The Goose with the Golden Eggs. A certain man had the good fortune to possess a Goose that laid him a Golden Egg every day, but dissatisfied with so slow and encommed, and thinking to seize the whole treasure at once, he killed the Goose and cutting her open, found her just what any other Goose would be. Much once more, and loses all. The town mouse and the country mouse. A country mouse invited a town mouse and intimate friend to pay him a visit and portake of his country fair. As they were on the bare-plowed lands, eating their wheat stock.\n",
      "\n",
      "Processing: ls_test.flac\n",
      "--------------------------------------------------\n",
      "Audio duration: 6.67 seconds\n",
      "Transcription time: 0.16 seconds\n",
      "Transcribed text:  Then the good soul openly sorted the boat and she had buoyed so long in secret and bravely stretched on alone.\n"
     ]
    }
   ],
   "source": [
    "import mlx_whisper\n",
    "\n",
    "samples_folder='../samples'\n",
    "import time\n",
    "import librosa\n",
    "import os\n",
    "\n",
    "# Get all audio files from samples folder\n",
    "audio_files = [f for f in os.listdir(samples_folder) if f.endswith(('.wav', '.flac', '.mp3'))]\n",
    "\n",
    "\n",
    "\n",
    "for audio_file in audio_files:\n",
    "    print(f\"\\nProcessing: {audio_file}\")\n",
    "    print(\"-\" * 50)\n",
    "    \n",
    "    # Get audio duration\n",
    "    audio_path = os.path.join(samples_folder, audio_file)\n",
    "    duration = librosa.get_duration(path=audio_path)\n",
    "\n",
    "    # Transcribe audio\n",
    "    start_time = time.time()\n",
    "    text = mlx_whisper.transcribe(audio_path)['text']\n",
    "    end_time = time.time()\n",
    "\n",
    "    # Print results\n",
    "    print(f\"Audio duration: {duration:.2f} seconds\")\n",
    "    print(f\"Transcription time: {end_time - start_time:.2f} seconds\")\n",
    "    print(f\"Transcribed text: {text}\")\n",
    "\n"
   ]
  }
 ],
 "metadata": {
  "kernelspec": {
   "display_name": "mlx-whisper",
   "language": "python",
   "name": "python3"
  },
  "language_info": {
   "codemirror_mode": {
    "name": "ipython",
    "version": 3
   },
   "file_extension": ".py",
   "mimetype": "text/x-python",
   "name": "python",
   "nbconvert_exporter": "python",
   "pygments_lexer": "ipython3",
   "version": "3.12.9"
  }
 },
 "nbformat": 4,
 "nbformat_minor": 2
}
