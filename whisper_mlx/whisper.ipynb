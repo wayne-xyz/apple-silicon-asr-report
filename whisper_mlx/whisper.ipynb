{
 "cells": [
  {
   "cell_type": "markdown",
   "metadata": {},
   "source": [
    "# mlx-whisper\n",
    "\n",
    "- option1 tiny\n",
    "`pip install mlx-whisper`\n",
    "\n",
    "- option2 \n",
    "  - tiny\n",
    "  - tiny_en\n",
    "' pip install -U openai-whisper '\n",
    "\n"
   ]
  },
  {
   "cell_type": "markdown",
   "metadata": {},
   "source": [
    "## Mac"
   ]
  },
  {
   "cell_type": "markdown",
   "metadata": {},
   "source": [
    "### mlx-Whisper"
   ]
  },
  {
   "cell_type": "code",
   "execution_count": 2,
   "metadata": {},
   "outputs": [
    {
     "name": "stdout",
     "output_type": "stream",
     "text": [
      "default model: whisper-tiny 74m\n",
      "\n",
      "Processing: recordAfterVAD.m4a\n",
      "--------------------------------------------------\n"
     ]
    },
    {
     "name": "stderr",
     "output_type": "stream",
     "text": [
      "/var/folders/4m/4mq00kz14230_q153p1_qdn80000gn/T/ipykernel_71860/2192796240.py:19: FutureWarning: PySoundFile failed. Trying audioread instead.\n",
      "\tAudioread support is deprecated in librosa 0.10.0 and will be removed in version 1.0.\n",
      "  duration = librosa.get_duration(path=audio_path)\n"
     ]
    },
    {
     "name": "stdout",
     "output_type": "stream",
     "text": [
      "Audio duration: 14.48 seconds\n",
      "Transcription time: 0.19 seconds\n",
      "Transcribed text:  speech to the text and I want to know is that be the way to show that all the sound for 300 I want to know that clap clap\n",
      "\n",
      "Processing: Speaker27_000.wav\n",
      "--------------------------------------------------\n",
      "Audio duration: 60.00 seconds\n",
      "Transcription time: 0.60 seconds\n",
      "Transcribed text:  The story of the invention, development, and present-day uses of wars and newest weapons. This is the Librevox Recording. All Librevox Recording are in the public domain. For more information or to volunteer, please visit Librevox.org. Recording by William Tomko. Aircraft and submarines by Willis J. Abbott. Preface. Not since Gunpowder was first employed in warfare has so revolutionary contribution to the science of slaughtering men been made as by the perfection of aircraft and submarines. The former have had their first employment in this worldwide war of the nations. The latter, though in the experimental stage as far back as the American Revolution, have in this bitter contest then for the first time brought to so practical and stage of development as to exert a really appreciable influence on the outcome of this.\n",
      "\n",
      "Processing: Speaker26_000.wav\n",
      "--------------------------------------------------\n",
      "Audio duration: 60.00 seconds\n",
      "Transcription time: 0.55 seconds\n",
      "Transcribed text:  Section 0 of esophs fables, a new revised version by esoph. This sleeper box recording is in the public domain. Preface, the following are some of esophs best-loved fables. The Goose with the Golden Eggs. A certain man had the good fortune to possess a Goose that laid him a Golden Egg every day, but dissatisfied with so slow and encommed, and thinking to seize the whole treasure at once, he killed the Goose and cutting her open, found her just what any other Goose would be. Much once more, and loses all. The town mouse and the country mouse. A country mouse invited a town mouse and intimate friend to pay him a visit and portake of his country fair. As they were on the bare-plowed lands, eating their wheat stock.\n",
      "\n",
      "Processing: ls_test.flac\n",
      "--------------------------------------------------\n",
      "Audio duration: 6.67 seconds\n",
      "Transcription time: 0.15 seconds\n",
      "Transcribed text:  Then the good soul openly sorted the boat and she had buoyed so long in secret and bravely stretched on alone.\n"
     ]
    }
   ],
   "source": [
    "import mlx_whisper\n",
    "\n",
    "samples_folder='../samples'\n",
    "import time\n",
    "import librosa\n",
    "import os\n",
    "\n",
    "# Get all audio files from samples folder\n",
    "audio_files = [f for f in os.listdir(samples_folder) if f.endswith(('.wav', '.flac', '.mp3','.m4a'))]\n",
    "print ('default model: whisper-tiny 74m' )\n",
    "\n",
    "\n",
    "for audio_file in audio_files:\n",
    "    print(f\"\\nProcessing: {audio_file}\")\n",
    "    print(\"-\" * 50)\n",
    "    \n",
    "    # Get audio duration\n",
    "    audio_path = os.path.join(samples_folder, audio_file)\n",
    "    duration = librosa.get_duration(path=audio_path)\n",
    "\n",
    "    # Transcribe audio\n",
    "    start_time = time.time()\n",
    "    text = mlx_whisper.transcribe(audio_path)['text']\n",
    "    end_time = time.time()\n",
    "\n",
    "    # Print results\n",
    "    print(f\"Audio duration: {duration:.2f} seconds\")\n",
    "    print(f\"Transcription time: {end_time - start_time:.2f} seconds\")\n",
    "    print(f\"Transcribed text: {text}\")\n",
    "\n"
   ]
  },
  {
   "cell_type": "markdown",
   "metadata": {},
   "source": [
    "### Apple Speech  SFSpeechRecognizer\n"
   ]
  },
  {
   "cell_type": "code",
   "execution_count": 2,
   "metadata": {},
   "outputs": [
    {
     "name": "stdout",
     "output_type": "stream",
     "text": [
      "Apple Speech framework (SFSpeechRecognizer)\n",
      "\n",
      "Processing: Speaker26_000.wav\n",
      "--------------------------------------------------\n",
      "Audio duration     :  60.00 s\n",
      "Transcription time :   3.22 s\n",
      "Transcribed text   : Section 0 of Aesop fables a new revised version by ASAP this lab box recording is in the public domain preface the following or some of EOPS best loved fables the goose with the golden eggs a certain man had a good fortune to possess a goose that laid him a golden egg every day but dissatisfied with so slow and income and thinking to see the whole treasure at once he killed the goose and cutting her open found her just what any other goose would be much once more and loses all the town mouse and the country mouse a country mouse invited a townhouse and intimate friend to pay him a visit and partake of his country fair as they were on the bear plowed lands eating their wheat \n",
      "\n",
      "Processing: Speaker27_000.wav\n",
      "--------------------------------------------------\n",
      "Audio duration     :  60.00 s\n",
      "Transcription time :   2.92 s\n",
      "Transcribed text   : Preface of aircraft and submarines the story of the invention development and present day uses of wars newest weapons this is a liver box recording all liver box recordings are in the public domain for more information or to volunteer please visit libervox.org recording by William Tomco aircraft and submarines by Willis J Abbott preface nut since gunpowder was first employed in warfare has so revolutionary contribution to the science of slaughtering men been made as by the perfection of aircraft and submarines the former have had their first employment in this worldwide war of the nations the ladder though in the experimental stage as far back as the American revolution have this bitter contest been for the first time brought to so practical and stage of development as to exert a really appreciable influence on the outcome of \n",
      "\n",
      "Processing: ls_test.flac\n",
      "--------------------------------------------------\n",
      "Audio duration     :   6.67 s\n",
      "Transcription time :   0.30 s\n",
      "Transcribed text   : Then the good soul openly showed the burden she had born so long and secret and bravely trudged on alone \n",
      "\n"
     ]
    }
   ],
   "source": [
    "# ── IMPORTS ───────────────────────────────────────────────────────────────\n",
    "import os, time, librosa\n",
    "from Foundation import NSRunLoop, NSDate, NSURL\n",
    "import Speech                       # ← Apple’s Speech framework via PyObjC\n",
    "\n",
    "# ── CONFIG ────────────────────────────────────────────────────────────────\n",
    "SAMPLES_DIR = \"../samples\"\n",
    "SUPPORTED   = (\".wav\", \".m4a\", \".mp3\", \".flac\", \".aiff\", \".aif\")\n",
    "\n",
    "recognizer  = Speech.SFSpeechRecognizer.alloc().init()   # default locale\n",
    "\n",
    "def transcribe_file(path):\n",
    "    \"\"\"Return the best transcription of an audio file using Apple Speech.\"\"\"\n",
    "    url       = NSURL.fileURLWithPath_(os.path.abspath(path))\n",
    "    request   = Speech.SFSpeechURLRecognitionRequest.alloc().initWithURL_(url)\n",
    "    finished  = False\n",
    "    transcript = \"\"\n",
    "\n",
    "    # Callback that Speech runs on its own thread\n",
    "    def handler(result, error):\n",
    "        nonlocal finished, transcript\n",
    "        if result:\n",
    "            transcript = str(result.bestTranscription().formattedString())\n",
    "            if result.isFinal():\n",
    "                finished = True\n",
    "        else:                     # error or user denied permission\n",
    "            finished = True\n",
    "\n",
    "    # Kick off recognition\n",
    "    task = recognizer.recognitionTaskWithRequest_resultHandler_(request, handler)\n",
    "\n",
    "    # Spin the run-loop until the async callback sets finished = True\n",
    "    while not finished:\n",
    "        NSRunLoop.currentRunLoop().runUntilDate_(\n",
    "            NSDate.dateWithTimeIntervalSinceNow_(0.1)\n",
    "        )\n",
    "    return transcript\n",
    "\n",
    "# ── MAIN LOOP ─────────────────────────────────────────────────────────────\n",
    "print(\"Apple Speech framework (SFSpeechRecognizer)\\n\")\n",
    "\n",
    "for fname in sorted(f for f in os.listdir(SAMPLES_DIR)\n",
    "                    if f.lower().endswith(SUPPORTED)):\n",
    "    path = os.path.join(SAMPLES_DIR, fname)\n",
    "    print(f\"Processing: {fname}\\n\" + \"-\"*50)\n",
    "\n",
    "    duration = librosa.get_duration(path=path)\n",
    "    t0       = time.time()\n",
    "    text     = transcribe_file(path)\n",
    "    dt       = time.time() - t0\n",
    "\n",
    "    print(f\"Audio duration     : {duration:6.2f} s\")\n",
    "    print(f\"Transcription time : {dt:6.2f} s\")\n",
    "    print(\"Transcribed text   :\", text or \"[empty]\", \"\\n\")"
   ]
  },
  {
   "cell_type": "markdown",
   "metadata": {},
   "source": [
    "### Whisper cpp\n",
    "https://github.com/absadiki/pywhispercpp"
   ]
  },
  {
   "cell_type": "code",
   "execution_count": 6,
   "metadata": {},
   "outputs": [
    {
     "name": "stderr",
     "output_type": "stream",
     "text": [
      "whisper_init_from_file_with_params_no_state: loading model from '/Users/rongweiji/Library/Application Support/pywhispercpp/models/ggml-tiny.en.bin'\n",
      "whisper_init_with_params_no_state: use gpu    = 1\n",
      "whisper_init_with_params_no_state: flash attn = 0\n",
      "whisper_init_with_params_no_state: gpu_device = 0\n",
      "whisper_init_with_params_no_state: dtw        = 0\n",
      "whisper_init_with_params_no_state: devices    = 3\n",
      "whisper_init_with_params_no_state: backends   = 3\n",
      "whisper_model_load: loading model\n",
      "whisper_model_load: n_vocab       = 51864\n",
      "whisper_model_load: n_audio_ctx   = 1500\n",
      "whisper_model_load: n_audio_state = 384\n",
      "whisper_model_load: n_audio_head  = 6\n",
      "whisper_model_load: n_audio_layer = 4\n",
      "whisper_model_load: n_text_ctx    = 448\n",
      "whisper_model_load: n_text_state  = 384\n",
      "whisper_model_load: n_text_head   = 6\n",
      "whisper_model_load: n_text_layer  = 4\n",
      "whisper_model_load: n_mels        = 80\n",
      "whisper_model_load: ftype         = 1\n",
      "whisper_model_load: qntvr         = 0\n",
      "whisper_model_load: type          = 1 (tiny)\n",
      "whisper_model_load: adding 1607 extra tokens\n",
      "whisper_model_load: n_langs       = 99\n",
      "whisper_default_buffer_type: using device Metal (Apple M3)\n",
      "whisper_model_load:    Metal total size =    77.11 MB\n",
      "whisper_model_load: model size    =   77.11 MB\n",
      "whisper_backend_init_gpu: using Metal backend\n",
      "ggml_metal_init: allocating\n",
      "ggml_metal_init: found device: Apple M3\n",
      "ggml_metal_init: picking default device: Apple M3\n",
      "ggml_metal_init: using embedded metal library\n",
      "ggml_metal_init: GPU name:   Apple M3\n",
      "ggml_metal_init: GPU family: MTLGPUFamilyApple9  (1009)\n",
      "ggml_metal_init: GPU family: MTLGPUFamilyCommon3 (3003)\n",
      "ggml_metal_init: GPU family: MTLGPUFamilyMetal3  (5001)\n",
      "ggml_metal_init: simdgroup reduction   = true\n",
      "ggml_metal_init: simdgroup matrix mul. = true\n",
      "ggml_metal_init: has bfloat            = true\n",
      "ggml_metal_init: use bfloat            = false\n",
      "ggml_metal_init: hasUnifiedMemory      = true\n",
      "ggml_metal_init: recommendedMaxWorkingSetSize  = 11453.25 MB\n",
      "ggml_metal_init: skipping kernel_get_rows_bf16                     (not supported)\n",
      "ggml_metal_init: skipping kernel_mul_mv_bf16_f32                   (not supported)\n",
      "ggml_metal_init: skipping kernel_mul_mv_bf16_f32_1row              (not supported)\n",
      "ggml_metal_init: skipping kernel_mul_mv_bf16_f32_l4                (not supported)\n",
      "ggml_metal_init: skipping kernel_mul_mv_bf16_bf16                  (not supported)\n",
      "ggml_metal_init: skipping kernel_mul_mv_id_bf16_f32                (not supported)\n",
      "ggml_metal_init: skipping kernel_mul_mm_bf16_f32                   (not supported)\n",
      "ggml_metal_init: skipping kernel_mul_mm_id_bf16_f32                (not supported)\n",
      "ggml_metal_init: skipping kernel_flash_attn_ext_bf16_h64           (not supported)\n",
      "ggml_metal_init: skipping kernel_flash_attn_ext_bf16_h80           (not supported)\n",
      "ggml_metal_init: skipping kernel_flash_attn_ext_bf16_h96           (not supported)\n",
      "ggml_metal_init: skipping kernel_flash_attn_ext_bf16_h112          (not supported)\n",
      "ggml_metal_init: skipping kernel_flash_attn_ext_bf16_h128          (not supported)\n",
      "ggml_metal_init: skipping kernel_flash_attn_ext_bf16_h256          (not supported)\n",
      "ggml_metal_init: skipping kernel_flash_attn_ext_vec_bf16_h128      (not supported)\n",
      "ggml_metal_init: skipping kernel_flash_attn_ext_vec_bf16_h256      (not supported)\n",
      "ggml_metal_init: skipping kernel_cpy_f32_bf16                      (not supported)\n",
      "ggml_metal_init: skipping kernel_cpy_bf16_f32                      (not supported)\n",
      "ggml_metal_init: skipping kernel_cpy_bf16_bf16                     (not supported)\n",
      "whisper_backend_init: using BLAS backend\n",
      "whisper_init_state: kv self size  =    3.15 MB\n",
      "whisper_init_state: kv cross size =    9.44 MB\n",
      "whisper_init_state: kv pad  size  =    2.36 MB\n",
      "whisper_init_state: compute buffer (conv)   =   14.15 MB\n",
      "whisper_init_state: compute buffer (encode) =   64.79 MB\n",
      "whisper_init_state: compute buffer (cross)  =    3.88 MB\n",
      "whisper_init_state: compute buffer (decode) =   96.81 MB\n"
     ]
    },
    {
     "name": "stdout",
     "output_type": "stream",
     "text": [
      "Whisper.cpp (tiny.en model)\n",
      "\n",
      "Processing: Speaker26_000.wav\n",
      "--------------------------------------------------\n"
     ]
    },
    {
     "name": "stderr",
     "output_type": "stream",
     "text": [
      "Progress:   0%\n",
      "Progress:  38%\n",
      "Progress:  85%\n",
      "Progress:  95%\n",
      "Progress: 100%\n"
     ]
    },
    {
     "name": "stdout",
     "output_type": "stream",
     "text": [
      "Audio duration     :  60.00 s\n",
      "Transcription time :   0.63 s\n",
      "Transcribed text   : [t0=0, t1=668, text=Section zero of ESOP's fables, a new revised version by ESOP. This sliver box recording, t0=668, t1=1660, text=is in the public domain. Preface, the following are some of ESOP's best-loved fables., t0=1660, t1=2308, text=The Goose with the Golden Eggs A certain man had the good fortune to possess a goose, t0=2308, t1=3072, text=that laid him a golden egg every day, but dissatisfied with so slow an income and thinking, t0=3072, t1=3660, text=to seize the whole treasure at once, he killed the Goose and cutting her open, found her, t0=3660, t1=4520, text=just what any other Goose would be. Much once more and loses all., t0=4520, t1=5108, text=The Town Mouse and the Country Mouse A country mouse invited a town mouse, t0=5108, t1=5700, text=and intimate friend to pay him a visit and partake of his country fair. As they were on, t0=5700, t1=6000, text=the bare plowed lands, eating their wheat stalk.] \n",
      "\n",
      "Processing: Speaker27_000.wav\n",
      "--------------------------------------------------\n",
      "Audio duration     :  60.00 s\n",
      "Transcription time :   0.54 s\n",
      "Transcribed text   : [t0=0, t1=1000, text=Preface of Aircraft and Submarines, the story of the invention, development, and present-day uses of wars and newest weapons., t0=1000, t1=1500, text=This is the Liber vox recording. All Liber vox recordings are in the public domain., t0=1500, t1=2100, text=For more information or to volunteer, please visit Libervox.org., t0=2100, t1=2900, text=Recording by William Tomko, Aircraft and Submarines by Willis J. Abbott, Preface., t0=2900, t1=4100, text=Not since gunpowder was first employed in warfare has so revolutionary a contribution to the science of slaughtering men been made as by the perfection of aircraft and submarines., t0=4100, t1=4500, text=The former have had their first employment in this worldwide war of the nations., t0=4500, t1=5600, text=The latter, though in the experimental stage, as far back as the American Revolution, have in this bitter contest, then for the first time brought to so practical a stage of development,, t0=5600, t1=6000, text=as to exert a really appreciable influence on the outcome of the] \n",
      "\n",
      "Processing: ls_test.flac\n",
      "--------------------------------------------------\n",
      "Audio duration     :   6.67 s\n",
      "Transcription time :   0.10 s\n",
      "Transcribed text   : [t0=0, t1=510, text=Then the goods sold openly, shorted the burden she had borne so long in secret and bravely, t0=510, t1=640, text=trudged on alone.] \n",
      "\n"
     ]
    },
    {
     "name": "stderr",
     "output_type": "stream",
     "text": [
      "Progress:   0%\n",
      "Progress:  48%\n",
      "Progress:  93%\n",
      "Progress: 100%\n",
      "Progress:   0%\n",
      "Progress: 100%\n"
     ]
    }
   ],
   "source": [
    "from pywhispercpp.model import Model\n",
    "import time\n",
    "import librosa\n",
    "import os\n",
    "import soundfile as sf\n",
    "\n",
    "# ── CONFIG ────────────────────────────────────────────────────────────────\n",
    "SAMPLES_DIR = \"../samples\"\n",
    "SUPPORTED   = (\".wav\", \".m4a\", \".mp3\", \".flac\", \".aiff\", \".aif\")\n",
    "TARGET_SR = 16000  # Whisper requires 16kHz audio\n",
    "\n",
    "# Initialize model\n",
    "model = Model('tiny.en')\n",
    "\n",
    "# ── MAIN LOOP ─────────────────────────────────────────────────────────────\n",
    "print(\"Whisper.cpp (tiny.en model)\\n\")\n",
    "\n",
    "for fname in sorted(f for f in os.listdir(SAMPLES_DIR)\n",
    "                    if f.lower().endswith(SUPPORTED)):\n",
    "    path = os.path.join(SAMPLES_DIR, fname)\n",
    "    print(f\"Processing: {fname}\\n\" + \"-\"*50)\n",
    "\n",
    "    # Load and resample audio to 16kHz\n",
    "    audio, sr = librosa.load(path, sr=TARGET_SR)\n",
    "    \n",
    "    # Save as temporary WAV file with correct format\n",
    "    temp_path = f\"temp_{fname}.wav\"\n",
    "    sf.write(temp_path, audio, TARGET_SR)\n",
    "\n",
    "    duration = librosa.get_duration(path=path)\n",
    "    t0       = time.time()\n",
    "    text     = model.transcribe(temp_path)\n",
    "    dt       = time.time() - t0\n",
    "\n",
    "    # Clean up temporary file\n",
    "    os.remove(temp_path)\n",
    "\n",
    "    print(f\"Audio duration     : {duration:6.2f} s\")\n",
    "    print(f\"Transcription time : {dt:6.2f} s\")\n",
    "    print(\"Transcribed text   :\", text or \"[empty]\", \"\\n\")"
   ]
  },
  {
   "cell_type": "markdown",
   "metadata": {},
   "source": [
    "### openai-whisper"
   ]
  },
  {
   "cell_type": "code",
   "execution_count": 20,
   "metadata": {},
   "outputs": [
    {
     "name": "stdout",
     "output_type": "stream",
     "text": [
      "openai-whisper, tiny model, 72M\n",
      "\n",
      "Processing: Speaker27_000.wav\n",
      "--------------------------------------------------\n"
     ]
    },
    {
     "name": "stderr",
     "output_type": "stream",
     "text": [
      "/opt/miniconda3/envs/mlx-whisper/lib/python3.12/site-packages/whisper/transcribe.py:126: UserWarning: FP16 is not supported on CPU; using FP32 instead\n",
      "  warnings.warn(\"FP16 is not supported on CPU; using FP32 instead\")\n"
     ]
    },
    {
     "name": "stdout",
     "output_type": "stream",
     "text": [
      "Audio duration: 60.00 seconds\n",
      "Transcription time: 1.26 seconds\n",
      "Transcribed text:  The story of the invention, development, and present-day uses of wars and newest weapons. This is the Librevox Recording. All Librevox Recording are in the public domain. For more information or to volunteer, please visit Librevox.org. Recording by William Tomko. Aircraft and submarines by Willis J. Abbott. Preface. Not since Gunpowder was first employed in warfare has so revolutionary contribution to the science of slaughtering men been made as by the perfection of aircraft and submarines. The former have had their first employment in this worldwide war of the nations. The latter, though in the experimental stage as far back as the American Revolution, have in this bitter contest then for the first time brought to so practical and stage of development as to exert a really appreciable influence on the outcome of this.\n",
      "\n",
      "Processing: Speaker26_000.wav\n",
      "--------------------------------------------------\n"
     ]
    },
    {
     "name": "stderr",
     "output_type": "stream",
     "text": [
      "/opt/miniconda3/envs/mlx-whisper/lib/python3.12/site-packages/whisper/transcribe.py:126: UserWarning: FP16 is not supported on CPU; using FP32 instead\n",
      "  warnings.warn(\"FP16 is not supported on CPU; using FP32 instead\")\n"
     ]
    },
    {
     "name": "stdout",
     "output_type": "stream",
     "text": [
      "Audio duration: 60.00 seconds\n",
      "Transcription time: 1.08 seconds\n",
      "Transcribed text:  Section 0 of esophs fables, a new revised version by esoph. This sleeper box recording is in the public domain. Preface, the following are some of esophs best-loved fables. The Goose with the Golden Eggs. A certain man had the good fortune to possess a Goose that laid him a Golden Egg every day, but dissatisfied with so slow and encommed, and thinking to seize the whole treasure at once, he killed the Goose and cutting her open, found her just what any other Goose would be. Much once more, and loses all. The town mouse and the country mouse. A country mouse invited a town mouse and intimate friend to pay him a visit and portake of his country fair. As they were on the bare-plowed lands, eating their wheat stock.\n",
      "\n",
      "Processing: ls_test.flac\n",
      "--------------------------------------------------\n"
     ]
    },
    {
     "name": "stderr",
     "output_type": "stream",
     "text": [
      "/opt/miniconda3/envs/mlx-whisper/lib/python3.12/site-packages/whisper/transcribe.py:126: UserWarning: FP16 is not supported on CPU; using FP32 instead\n",
      "  warnings.warn(\"FP16 is not supported on CPU; using FP32 instead\")\n"
     ]
    },
    {
     "name": "stdout",
     "output_type": "stream",
     "text": [
      "Audio duration: 6.67 seconds\n",
      "Transcription time: 0.31 seconds\n",
      "Transcribed text:  Then the good soul openly sorted the boat and she had buoyed so long in secret and bravely stretched on alone.\n"
     ]
    }
   ],
   "source": [
    "import whisper\n",
    "\n",
    "import time\n",
    "import librosa\n",
    "import os\n",
    "samples_folder='../samples'\n",
    "model = whisper.load_model(\"tiny\")\n",
    "# Get all audio files from samples folder\n",
    "audio_files = [f for f in os.listdir(samples_folder) if f.endswith(('.wav', '.flac', '.mp3'))]\n",
    "\n",
    "print ('openai-whisper, tiny model, 72M')\n",
    "for audio_file in audio_files:\n",
    "    print(f\"\\nProcessing: {audio_file}\")\n",
    "    print(\"-\" * 50)\n",
    "    \n",
    "    # Get audio duration\n",
    "    audio_path = os.path.join( samples_folder, audio_file)\n",
    "    duration = librosa.get_duration(path=audio_path)\n",
    "\n",
    "    # Transcribe audio\n",
    "    start_time = time.time()\n",
    "    result = model.transcribe(audio_path)\n",
    "    end_time = time.time()\n",
    "\n",
    "    # Print results\n",
    "    print(f\"Audio duration: {duration:.2f} seconds\")\n",
    "    print(f\"Transcription time: {end_time - start_time:.2f} seconds\")\n",
    "    print(f\"Transcribed text: {result['text']}\")\n",
    "\n"
   ]
  },
  {
   "cell_type": "markdown",
   "metadata": {},
   "source": []
  },
  {
   "cell_type": "code",
   "execution_count": 21,
   "metadata": {},
   "outputs": [
    {
     "name": "stderr",
     "output_type": "stream",
     "text": [
      "100%|█████████████████████████████████████| 72.1M/72.1M [00:01<00:00, 69.9MiB/s]\n"
     ]
    },
    {
     "name": "stdout",
     "output_type": "stream",
     "text": [
      "openai-whisper, tiny model, 72M\n",
      "\n",
      "Processing: Speaker27_000.wav\n",
      "--------------------------------------------------\n"
     ]
    },
    {
     "name": "stderr",
     "output_type": "stream",
     "text": [
      "/opt/miniconda3/envs/mlx-whisper/lib/python3.12/site-packages/whisper/transcribe.py:126: UserWarning: FP16 is not supported on CPU; using FP32 instead\n",
      "  warnings.warn(\"FP16 is not supported on CPU; using FP32 instead\")\n"
     ]
    },
    {
     "name": "stdout",
     "output_type": "stream",
     "text": [
      "Audio duration: 60.00 seconds\n",
      "Transcription time: 1.12 seconds\n",
      "Transcribed text:  Preface of Aircraft and Submarines, the story of the invention, development, and present-day uses of wars and newest weapons. This is the Liber vox recording. All Liber vox recordings are in the public domain. For more information or to volunteer, please visit Libervox.org. Recording by William Tomko, Aircraft and Submarines by Willis J. Abbott, Preface. Not since gunpowder was first employed in warfare has so revolutionary a contribution to the science of slaughtering men been made as by the perfection of aircraft and submarines. The former have had their first employment in this worldwide war of the nations. The latter, though in the experimental stage, as far back as the American Revolution, have in this bitter contest, then for the first time brought to so practical a stage of development, as to exert a really appreciable influence on the outcome of the...\n",
      "\n",
      "Processing: Speaker26_000.wav\n",
      "--------------------------------------------------\n"
     ]
    },
    {
     "name": "stderr",
     "output_type": "stream",
     "text": [
      "/opt/miniconda3/envs/mlx-whisper/lib/python3.12/site-packages/whisper/transcribe.py:126: UserWarning: FP16 is not supported on CPU; using FP32 instead\n",
      "  warnings.warn(\"FP16 is not supported on CPU; using FP32 instead\")\n"
     ]
    },
    {
     "name": "stdout",
     "output_type": "stream",
     "text": [
      "Audio duration: 60.00 seconds\n",
      "Transcription time: 0.97 seconds\n",
      "Transcribed text:  Section zero of ESOP's fables, a new revised version by ESOP. This sliver box recording is in the public domain. Preface, the following are some of ESOP's best-loved fables. The Goose with the Golden Eggs A certain man had the good fortune to possess a goose that laid him a golden egg every day, but dissatisfied with so slow an income and thinking to seize the whole treasure at once, he killed the Goose and cutting her open, found her just what any other Goose would be. Much once more and loses all. The Town Mouse and the Country Mouse A country mouse invited a town mouse and intimate friend to pay him a visit and partake of his country fair. As they were on the bare plowed lands, eating their wheat stock.\n",
      "\n",
      "Processing: ls_test.flac\n",
      "--------------------------------------------------\n"
     ]
    },
    {
     "name": "stderr",
     "output_type": "stream",
     "text": [
      "/opt/miniconda3/envs/mlx-whisper/lib/python3.12/site-packages/whisper/transcribe.py:126: UserWarning: FP16 is not supported on CPU; using FP32 instead\n",
      "  warnings.warn(\"FP16 is not supported on CPU; using FP32 instead\")\n"
     ]
    },
    {
     "name": "stdout",
     "output_type": "stream",
     "text": [
      "Audio duration: 6.67 seconds\n",
      "Transcription time: 0.23 seconds\n",
      "Transcribed text:  Then the goods sold openly, shorted the burden she had borne so long in secret and bravely trudged on alone.\n"
     ]
    }
   ],
   "source": [
    "import whisper\n",
    "\n",
    "import time\n",
    "import librosa\n",
    "import os\n",
    "samples_folder='../samples'\n",
    "model_en = whisper.load_model(\"tiny.en\")\n",
    "# Get all audio files from samples folder\n",
    "audio_files = [f for f in os.listdir(samples_folder) if f.endswith(('.wav', '.flac', '.mp3'))]\n",
    "\n",
    "print ('openai-whisper, tiny_en model, 72M')\n",
    "for audio_file in audio_files:\n",
    "    print(f\"\\nProcessing: {audio_file}\")\n",
    "    print(\"-\" * 50)\n",
    "    \n",
    "    # Get audio duration\n",
    "    audio_path = os.path.join( samples_folder, audio_file)\n",
    "    duration = librosa.get_duration(path=audio_path)\n",
    "\n",
    "    # Transcribe audio\n",
    "    start_time = time.time()\n",
    "    result = model_en.transcribe(audio_path)\n",
    "    end_time = time.time()\n",
    "\n",
    "    # Print results\n",
    "    print(f\"Audio duration: {duration:.2f} seconds\")\n",
    "    print(f\"Transcription time: {end_time - start_time:.2f} seconds\")\n",
    "    print(f\"Transcribed text: {result['text']}\")\n",
    "\n"
   ]
  },
  {
   "cell_type": "code",
   "execution_count": 2,
   "metadata": {},
   "outputs": [
    {
     "name": "stdout",
     "output_type": "stream",
     "text": [
      "2.7.0\n",
      "True\n",
      "True\n"
     ]
    }
   ],
   "source": [
    "import torch\n",
    "print(torch.__version__)\n",
    "print(torch.backends.mps.is_available())\n",
    "print(torch.backends.mps.is_built())"
   ]
  },
  {
   "cell_type": "markdown",
   "metadata": {},
   "source": [
    "### Vosk\n"
   ]
  },
  {
   "cell_type": "code",
   "execution_count": 7,
   "metadata": {},
   "outputs": [
    {
     "name": "stdout",
     "output_type": "stream",
     "text": [
      "default model: vosk-model-small-en-us-0.15\n"
     ]
    },
    {
     "name": "stderr",
     "output_type": "stream",
     "text": [
      "LOG (VoskAPI:ReadDataFiles():model.cc:213) Decoding params beam=10 max-active=3000 lattice-beam=2\n",
      "LOG (VoskAPI:ReadDataFiles():model.cc:216) Silence phones 1:2:3:4:5:6:7:8:9:10\n",
      "LOG (VoskAPI:RemoveOrphanNodes():nnet-nnet.cc:948) Removed 0 orphan nodes.\n",
      "LOG (VoskAPI:RemoveOrphanComponents():nnet-nnet.cc:847) Removing 0 orphan components.\n",
      "LOG (VoskAPI:ReadDataFiles():model.cc:248) Loading i-vector extractor from ../models/vosk-model-small-en-us-0.15/ivector/final.ie\n",
      "LOG (VoskAPI:ComputeDerivedVars():ivector-extractor.cc:183) Computing derived variables for iVector extractor\n",
      "LOG (VoskAPI:ComputeDerivedVars():ivector-extractor.cc:204) Done.\n",
      "LOG (VoskAPI:ReadDataFiles():model.cc:282) Loading HCL and G from ../models/vosk-model-small-en-us-0.15/graph/HCLr.fst ../models/vosk-model-small-en-us-0.15/graph/Gr.fst\n",
      "LOG (VoskAPI:ReadDataFiles():model.cc:303) Loading winfo ../models/vosk-model-small-en-us-0.15/graph/phones/word_boundary.int\n",
      "ggml_metal_free: deallocating\n"
     ]
    },
    {
     "name": "stdout",
     "output_type": "stream",
     "text": [
      "Vosk model: vosk-model-small-en-us-0.15 40M\n",
      "\n",
      "Processing: Speaker27_000.wav\n",
      "--------------------------------------------------\n",
      "Audio duration: 60.00 s\n",
      "Transcription time: 55.57 s\n",
      "Transcribed text:\n",
      "preface of aircraft and submarines the story of the invention development and present day uses of wars newest weapons this is a liberal box recording olive revives recordings are in the public domain for more information or to volunteer please visit liberal vox dot org recording by william tomko aircraft and submarines by will is jay abbott preface that since gunpowder was first employed in warfare has so revolutionary a contribution to the science of slaughtering men been made as why the perfection of aircraft and submarines the former have had their first employment in this world wide war of the nation's the ladder though in the experimental stage as far back as the american revolution have in this bitter contest in for the first time brought to so practical and stage of development as to exert a really appreciable influence on the outcome of\n",
      "\n",
      "Processing: Speaker26_000.wav\n",
      "--------------------------------------------------\n"
     ]
    },
    {
     "ename": "KeyboardInterrupt",
     "evalue": "",
     "output_type": "error",
     "traceback": [
      "\u001b[31m---------------------------------------------------------------------------\u001b[39m",
      "\u001b[31mKeyboardInterrupt\u001b[39m                         Traceback (most recent call last)",
      "\u001b[36mCell\u001b[39m\u001b[36m \u001b[39m\u001b[32mIn[7]\u001b[39m\u001b[32m, line 59\u001b[39m\n\u001b[32m     57\u001b[39m     \u001b[38;5;66;03m# convert float32 → 16-bit PCM bytes\u001b[39;00m\n\u001b[32m     58\u001b[39m     pcm16 = (chunk * \u001b[32m32767\u001b[39m).astype(np.int16).tobytes()\n\u001b[32m---> \u001b[39m\u001b[32m59\u001b[39m     \u001b[43mrec\u001b[49m\u001b[43m.\u001b[49m\u001b[43mAcceptWaveform\u001b[49m\u001b[43m(\u001b[49m\u001b[43mpcm16\u001b[49m\u001b[43m)\u001b[49m\n\u001b[32m     61\u001b[39m result = json.loads(rec.FinalResult())\n\u001b[32m     62\u001b[39m transcription = result.get(\u001b[33m\"\u001b[39m\u001b[33mtext\u001b[39m\u001b[33m\"\u001b[39m, \u001b[33m\"\u001b[39m\u001b[33m\"\u001b[39m)\n",
      "\u001b[36mFile \u001b[39m\u001b[32m/opt/miniconda3/envs/mlx-whisper/lib/python3.12/site-packages/vosk/__init__.py:182\u001b[39m, in \u001b[36mKaldiRecognizer.AcceptWaveform\u001b[39m\u001b[34m(self, data)\u001b[39m\n\u001b[32m    181\u001b[39m \u001b[38;5;28;01mdef\u001b[39;00m\u001b[38;5;250m \u001b[39m\u001b[34mAcceptWaveform\u001b[39m(\u001b[38;5;28mself\u001b[39m, data):\n\u001b[32m--> \u001b[39m\u001b[32m182\u001b[39m     res = \u001b[43m_c\u001b[49m\u001b[43m.\u001b[49m\u001b[43mvosk_recognizer_accept_waveform\u001b[49m\u001b[43m(\u001b[49m\u001b[38;5;28;43mself\u001b[39;49m\u001b[43m.\u001b[49m\u001b[43m_handle\u001b[49m\u001b[43m,\u001b[49m\u001b[43m \u001b[49m\u001b[43mdata\u001b[49m\u001b[43m,\u001b[49m\u001b[43m \u001b[49m\u001b[38;5;28;43mlen\u001b[39;49m\u001b[43m(\u001b[49m\u001b[43mdata\u001b[49m\u001b[43m)\u001b[49m\u001b[43m)\u001b[49m\n\u001b[32m    183\u001b[39m     \u001b[38;5;28;01mif\u001b[39;00m res < \u001b[32m0\u001b[39m:\n\u001b[32m    184\u001b[39m         \u001b[38;5;28;01mraise\u001b[39;00m \u001b[38;5;167;01mException\u001b[39;00m(\u001b[33m\"\u001b[39m\u001b[33mFailed to process waveform\u001b[39m\u001b[33m\"\u001b[39m)\n",
      "\u001b[31mKeyboardInterrupt\u001b[39m: "
     ]
    }
   ],
   "source": [
    "\"\"\"\n",
    "Transcribe every audio file in ../samples with Vosk.\n",
    "\n",
    "Requirements\n",
    "------------\n",
    "pip install vosk soundfile librosa numpy\n",
    "Download a Vosk model (e.g. “vosk-model-small-en-us-0.22”) and point\n",
    "`model_path` to its directory.\n",
    "\"\"\"\n",
    "\n",
    "import os\n",
    "import time\n",
    "import json\n",
    "import numpy as np\n",
    "import librosa\n",
    "from vosk import Model, KaldiRecognizer\n",
    "\n",
    "# ------------------------------------------------------------------ #\n",
    "# Configuration\n",
    "# ------------------------------------------------------------------ #\n",
    "samples_folder = \"../samples\"\n",
    "model_path     = \"../models/vosk-model-small-en-us-0.15\"   # ← change if needed\n",
    "sample_rate    = 16_000                                 # Vosk expects 16 kHz\n",
    "chunk_samples  = 4_000                                  # ~0.25 s per chunk\n",
    "# ------------------------------------------------------------------ #\n",
    "\n",
    "# Load Vosk model once\n",
    "print(f\"default model: {os.path.basename(model_path)}\")\n",
    "model = Model(model_path)\n",
    "\n",
    "# Collect supported audio files\n",
    "audio_files = [\n",
    "    f for f in os.listdir(samples_folder)\n",
    "    if f.lower().endswith((\".wav\", \".flac\", \".mp3\"))\n",
    "]\n",
    "\n",
    "print(f'Vosk model: {os.path.basename(model_path)} 40M')\n",
    "for audio_file in audio_files:\n",
    "    print(f\"\\nProcessing: {audio_file}\")\n",
    "    print(\"-\" * 50)\n",
    "\n",
    "    audio_path = os.path.join(samples_folder, audio_file)\n",
    "\n",
    "    # 1) Read and resample to 16 kHz mono (librosa handles any format ffmpeg can decode)\n",
    "    waveform, sr = librosa.load(audio_path, sr=sample_rate, mono=True)\n",
    "    duration_sec = len(waveform) / sample_rate\n",
    "\n",
    "    # 2) Set up a recognizer for this file\n",
    "    rec = KaldiRecognizer(model, sample_rate)\n",
    "    rec.SetWords(True)          # include word-level timestamps\n",
    "\n",
    "    # 3) Stream audio in small chunks (Vosk works best this way)\n",
    "    start = time.time()\n",
    "\n",
    "    for i in range(0, len(waveform), chunk_samples):\n",
    "        chunk = waveform[i : i + chunk_samples]\n",
    "        # convert float32 → 16-bit PCM bytes\n",
    "        pcm16 = (chunk * 32767).astype(np.int16).tobytes()\n",
    "        rec.AcceptWaveform(pcm16)\n",
    "\n",
    "    result = json.loads(rec.FinalResult())\n",
    "    transcription = result.get(\"text\", \"\")\n",
    "\n",
    "    end = time.time()\n",
    "\n",
    "    # 4) Report\n",
    "    print(f\"Audio duration: {duration_sec:.2f} s\")\n",
    "    print(f\"Transcription time: {end - start:.2f} s\")\n",
    "    print(f\"Transcribed text:\\n{transcription}\")\n"
   ]
  },
  {
   "cell_type": "markdown",
   "metadata": {},
   "source": [
    "## windoswe  "
   ]
  },
  {
   "cell_type": "code",
   "execution_count": 1,
   "metadata": {},
   "outputs": [
    {
     "name": "stdout",
     "output_type": "stream",
     "text": [
      "CUDA available: True\n",
      "Current CUDA device: 0\n",
      "CUDA device name: NVIDIA GeForce RTX 3060\n"
     ]
    }
   ],
   "source": [
    "import torch\n",
    "print(f\"CUDA available: {torch.cuda.is_available()}\")\n",
    "if torch.cuda.is_available():\n",
    "    print(f\"Current CUDA device: {torch.cuda.current_device()}\")\n",
    "    print(f\"CUDA device name: {torch.cuda.get_device_name()}\")"
   ]
  },
  {
   "cell_type": "code",
   "execution_count": 2,
   "metadata": {},
   "outputs": [
    {
     "name": "stdout",
     "output_type": "stream",
     "text": [
      "openai-whisper, tiny_en model, 72M\n",
      "\n",
      "Processing: ls_test.flac\n",
      "--------------------------------------------------\n",
      "Audio duration: 6.67 seconds\n",
      "Transcription time: 0.96 seconds\n",
      "Transcribed text:  Then the goods sold openly, shorted the burden she had borne so long in secret and bravely trudged on alone.\n",
      "\n",
      "Processing: Speaker26_000.wav\n",
      "--------------------------------------------------\n",
      "Audio duration: 60.00 seconds\n",
      "Transcription time: 1.70 seconds\n",
      "Transcribed text:  Section zero of ESOP's fables, a new revised version by ESOP. This sliver box recording is in the public domain. Preface, the following are some of ESOP's best-loved fables. The Goose with the Golden Eggs A certain man had the good fortune to possess a goose that laid him a golden egg every day, but dissatisfied with so slow an income and thinking to seize the whole treasure at once, he killed the Goose and cutting her open, found her just what any other Goose would be. Much once more and loses all. The Town Mouse and the Country Mouse A country mouse invited a town mouse and intimate friend to pay him a visit and partake of his country fair. As they were on the bare plowed lands, eating their wheat stock.\n",
      "\n",
      "Processing: Speaker27_000.wav\n",
      "--------------------------------------------------\n",
      "Audio duration: 60.00 seconds\n",
      "Transcription time: 1.82 seconds\n",
      "Transcribed text:  Preface of Aircraft and Submarines, the story of the invention, development, and present-day uses of wars and newest weapons. This is the Liber vox recording. All Liber vox recordings are in the public domain. For more information or to volunteer, please visit Libervox.org. Recording by William Tomko, Aircraft and Submarines by Willis J. Abbott, Preface. Not since gunpowder was first employed in warfare has so revolutionary a contribution to the science of slaughtering men been made as by the perfection of aircraft and submarines. The former have had their first employment in this worldwide war of the nations. The latter, though in the experimental stage, as far back as the American Revolution, have in this bitter contest, then for the first time brought to so practical a stage of development, as to exert a really appreciable influence on the outcome of the...\n"
     ]
    }
   ],
   "source": [
    "import whisper\n",
    "\n",
    "import time\n",
    "import librosa\n",
    "import os\n",
    "samples_folder='../samples'\n",
    "model_en = whisper.load_model(\"tiny.en\")\n",
    "# Get all audio files from samples folder\n",
    "audio_files = [f for f in os.listdir(samples_folder) if f.endswith(('.wav', '.flac', '.mp3'))]\n",
    "\n",
    "print ('openai-whisper, tiny_en model, 72M')\n",
    "for audio_file in audio_files:\n",
    "    print(f\"\\nProcessing: {audio_file}\")\n",
    "    print(\"-\" * 50)\n",
    "    \n",
    "    # Get audio duration\n",
    "    audio_path = os.path.join( samples_folder, audio_file)\n",
    "    duration = librosa.get_duration(path=audio_path)\n",
    "\n",
    "    # Transcribe audio\n",
    "    start_time = time.time()\n",
    "    result = model_en.transcribe(audio_path)\n",
    "    end_time = time.time()\n",
    "\n",
    "    # Print results\n",
    "    print(f\"Audio duration: {duration:.2f} seconds\")\n",
    "    print(f\"Transcription time: {end_time - start_time:.2f} seconds\")\n",
    "    print(f\"Transcribed text: {result['text']}\")\n",
    "\n"
   ]
  },
  {
   "cell_type": "markdown",
   "metadata": {},
   "source": [
    "### Swift app time \n",
    "\n"
   ]
  },
  {
   "cell_type": "markdown",
   "metadata": {},
   "source": [
    "- whisper.cpp and using the coreml for encoding \n",
    "tiny.en \n",
    "\n",
    "Speaker26_000.wav\n",
    "audio time : 60s\n",
    "transcription time : 1.18s , 0.93s, 1.024s \n",
    "\n",
    "Speaker27_000.wav\n",
    "audio time : 60s\n",
    "transcription time : 0.87s, 0.968s, 0.88s\n",
    "\n",
    "base.en \n",
    "Speaker26_000.wav\n",
    "audio time : 60s\n",
    "transcription time : 1.27s, 1.30s, 1.29s \n",
    "\n",
    "Speaker27_000.wav\n",
    "audio time : 60s\n",
    "transcription time : 1.75s, 1.65s, 1.50s\n",
    "\n",
    "\n",
    "- SFSpeechRecognizer using the onDevice model \n",
    "\n",
    "Speeker26_000.wav\n",
    "audio time : 60s\n",
    "transcription time : 2.64s, 3.027s, 2.63s\n",
    "\n",
    "Speaker27_000.wav\n",
    "audio time : 60s\n",
    "transcription time : 2.75s, 2.83s, 2.73s\n",
    "\n",
    "\n",
    "Real-time-factor ( Processing Time / Audio Duration)\n",
    "- whisper.cpp tiny.en : 0.0197, 0.0155, 0.0171, 0.0145, 0.0161, 0.0147\n",
    "- whisper.cpp base.en : 0.0212, 0.0217, 0.0215, 0.0292, 0.0275, 0.0250\n",
    "- AppleSpeech(onDevice): 0.0440, 0.0505, 0.0438, 0.0458, 0.0472, 0.0455\n",
    "\n"
   ]
  }
 ],
 "metadata": {
  "kernelspec": {
   "display_name": "mlx-whisper",
   "language": "python",
   "name": "python3"
  },
  "language_info": {
   "codemirror_mode": {
    "name": "ipython",
    "version": 3
   },
   "file_extension": ".py",
   "mimetype": "text/x-python",
   "name": "python",
   "nbconvert_exporter": "python",
   "pygments_lexer": "ipython3",
   "version": "3.12.9"
  }
 },
 "nbformat": 4,
 "nbformat_minor": 2
}
